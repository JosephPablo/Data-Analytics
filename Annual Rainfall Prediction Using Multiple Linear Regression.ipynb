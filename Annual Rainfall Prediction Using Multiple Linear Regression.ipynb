{
 "cells": [
  {
   "cell_type": "markdown",
   "metadata": {},
   "source": [
    "# Annual Rainfall Prediction Using Multilinear Regression\n",
    "#The data refers to details on climatological normals of district wise rainfall (in mm) \n",
    "#calculated with the data for the period 1951-2000."
   ]
  },
  {
   "cell_type": "code",
   "execution_count": 7,
   "metadata": {},
   "outputs": [
    {
     "name": "stdout",
     "output_type": "stream",
     "text": [
      "done\n",
      "file imported\n"
     ]
    }
   ],
   "source": [
    "import pandas as pd \n",
    "import numpy as np\n",
    "import matplotlib.pyplot as plt\n",
    "import math\n",
    "import sklearn\n",
    "from sklearn.model_selection import train_test_split as tts\n",
    "from sklearn.metrics import mean_squared_error as mse,r2_score as r2,mean_absolute_error as mae\n",
    "import seaborn as sb\n",
    "from sklearn import preprocessing\n",
    "%matplotlib inline \n",
    "print(\"done\")\n",
    "path = \"/Users/varun/Desktop/git/rainfall.csv\"\n",
    "data = pd.read_csv(path)\n",
    "print(\"file imported\")"
   ]
  },
  {
   "cell_type": "code",
   "execution_count": 9,
   "metadata": {},
   "outputs": [
    {
     "name": "stdout",
     "output_type": "stream",
     "text": [
      "Data heads:\n",
      "                 STATE_UT_NAME       DISTRICT    JAN   FEB    MAR    APR  \\\n",
      "0  ANDAMAN And NICOBAR ISLANDS        NICOBAR  107.3  57.9   65.2  117.0   \n",
      "1  ANDAMAN And NICOBAR ISLANDS  SOUTH ANDAMAN   43.7  26.0   18.6   90.5   \n",
      "2  ANDAMAN And NICOBAR ISLANDS  N & M ANDAMAN   32.7  15.9    8.6   53.4   \n",
      "3            ARUNACHAL PRADESH          LOHIT   42.2  80.8  176.4  358.5   \n",
      "4            ARUNACHAL PRADESH     EAST SIANG   33.3  79.5  105.9  216.5   \n",
      "\n",
      "     MAY    JUN    JUL    AUG    SEP    OCT    NOV    DEC  ANNUAL  Jan-Feb  \\\n",
      "0  358.5  295.5  285.0  271.9  354.8  326.0  315.2  250.9  2805.2    165.2   \n",
      "1  374.4  457.2  421.3  423.1  455.6  301.2  275.8  128.3  3015.7     69.7   \n",
      "2  343.6  503.3  465.4  460.9  454.8  276.1  198.6  100.0  2913.3     48.6   \n",
      "3  306.4  447.0  660.1  427.8  313.6  167.1   34.1   29.8  3043.8    123.0   \n",
      "4  323.0  738.3  990.9  711.2  568.0  206.9   29.5   31.7  4034.7    112.8   \n",
      "\n",
      "   Mar-May  Jun-Sep  Oct-Dec  \n",
      "0    540.7   1207.2    892.1  \n",
      "1    483.5   1757.2    705.3  \n",
      "2    405.6   1884.4    574.7  \n",
      "3    841.3   1848.5    231.0  \n",
      "4    645.4   3008.4    268.1  \n",
      "Null values in the dataset before preprocessing:\n",
      "STATE_UT_NAME    0\n",
      "DISTRICT         0\n",
      "JAN              0\n",
      "FEB              0\n",
      "MAR              0\n",
      "APR              0\n",
      "MAY              0\n",
      "JUN              0\n",
      "JUL              0\n",
      "AUG              0\n",
      "SEP              0\n",
      "OCT              0\n",
      "NOV              0\n",
      "DEC              0\n",
      "ANNUAL           0\n",
      "Jan-Feb          0\n",
      "Mar-May          0\n",
      "Jun-Sep          0\n",
      "Oct-Dec          0\n",
      "dtype: int64\n",
      "Filling null values with mean of that particular column\n",
      "Mean of data:\n",
      "JAN          18.355070\n",
      "FEB          20.984399\n",
      "MAR          30.034789\n",
      "APR          45.543214\n",
      "MAY          81.535101\n",
      "JUN         196.007332\n",
      "JUL         326.033697\n",
      "AUG         291.152262\n",
      "SEP         194.609048\n",
      "OCT          90.446334\n",
      "NOV          34.117473\n",
      "DEC          18.150858\n",
      "ANNUAL     1346.969579\n",
      "Jan-Feb      39.339470\n",
      "Mar-May     157.113105\n",
      "Jun-Sep    1007.802340\n",
      "Oct-Dec     142.714665\n",
      "dtype: float64\n",
      "Null values in the dataset after preprocessing:\n",
      "STATE_UT_NAME    0\n",
      "DISTRICT         0\n",
      "JAN              0\n",
      "FEB              0\n",
      "MAR              0\n",
      "APR              0\n",
      "MAY              0\n",
      "JUN              0\n",
      "JUL              0\n",
      "AUG              0\n",
      "SEP              0\n",
      "OCT              0\n",
      "NOV              0\n",
      "DEC              0\n",
      "ANNUAL           0\n",
      "Jan-Feb          0\n",
      "Mar-May          0\n",
      "Jun-Sep          0\n",
      "Oct-Dec          0\n",
      "dtype: int64\n",
      "\n",
      "\n",
      "Shape:  (641, 19)\n"
     ]
    }
   ],
   "source": [
    "print(\"Data heads:\")\n",
    "print(data.head())\n",
    "print(\"Null values in the dataset before preprocessing:\") \n",
    "print(data.isnull().sum())\n",
    "print(\"Filling null values with mean of that particular column\") \n",
    "data=data.fillna(np.mean(data))\n",
    "print(\"Mean of data:\")\n",
    "print(np.mean(data))\n",
    "print(\"Null values in the dataset after preprocessing:\") \n",
    "print(data.isnull().sum())\n",
    "print(\"\\n\\nShape: \",data.shape)"
   ]
  },
  {
   "cell_type": "code",
   "execution_count": 10,
   "metadata": {},
   "outputs": [
    {
     "name": "stdout",
     "output_type": "stream",
     "text": [
      "Info:\n",
      "<class 'pandas.core.frame.DataFrame'>\n",
      "RangeIndex: 641 entries, 0 to 640\n",
      "Data columns (total 19 columns):\n",
      "STATE_UT_NAME    641 non-null object\n",
      "DISTRICT         641 non-null object\n",
      "JAN              641 non-null float64\n",
      "FEB              641 non-null float64\n",
      "MAR              641 non-null float64\n",
      "APR              641 non-null float64\n",
      "MAY              641 non-null float64\n",
      "JUN              641 non-null float64\n",
      "JUL              641 non-null float64\n",
      "AUG              641 non-null float64\n",
      "SEP              641 non-null float64\n",
      "OCT              641 non-null float64\n",
      "NOV              641 non-null float64\n",
      "DEC              641 non-null float64\n",
      "ANNUAL           641 non-null float64\n",
      "Jan-Feb          641 non-null float64\n",
      "Mar-May          641 non-null float64\n",
      "Jun-Sep          641 non-null float64\n",
      "Oct-Dec          641 non-null float64\n",
      "dtypes: float64(17), object(2)\n",
      "memory usage: 95.2+ KB\n",
      "None\n"
     ]
    }
   ],
   "source": [
    "print(\"Info:\") \n",
    "print(data.info())"
   ]
  },
  {
   "cell_type": "code",
   "execution_count": 12,
   "metadata": {},
   "outputs": [
    {
     "name": "stdout",
     "output_type": "stream",
     "text": [
      "Group by:\n"
     ]
    },
    {
     "data": {
      "text/plain": [
       "STATE_UT_NAME\n",
       "ANDAMAN And NICOBAR ISLANDS     3\n",
       "ANDHRA PRADESH                 23\n",
       "ARUNACHAL PRADESH              16\n",
       "ASSAM                          27\n",
       "BIHAR                          38\n",
       "CHANDIGARH                      1\n",
       "CHATISGARH                     18\n",
       "DADAR NAGAR HAVELI              1\n",
       "DAMAN AND DUI                   2\n",
       "DELHI                           9\n",
       "GOA                             2\n",
       "GUJARAT                        26\n",
       "HARYANA                        21\n",
       "HIMACHAL                       12\n",
       "JAMMU AND KASHMIR              22\n",
       "JHARKHAND                      24\n",
       "KARNATAKA                      30\n",
       "KERALA                         14\n",
       "LAKSHADWEEP                     1\n",
       "MADHYA PRADESH                 50\n",
       "MAHARASHTRA                    35\n",
       "MANIPUR                         9\n",
       "MEGHALAYA                       7\n",
       "MIZORAM                         9\n",
       "NAGALAND                       11\n",
       "ORISSA                         30\n",
       "PONDICHERRY                     4\n",
       "PUNJAB                         20\n",
       "RAJASTHAN                      33\n",
       "SIKKIM                          4\n",
       "TAMIL NADU                     32\n",
       "TRIPURA                         4\n",
       "UTTAR PRADESH                  71\n",
       "UTTARANCHAL                    13\n",
       "WEST BENGAL                    19\n",
       "dtype: int64"
      ]
     },
     "execution_count": 12,
     "metadata": {},
     "output_type": "execute_result"
    }
   ],
   "source": [
    "# Grouping By the name of States\n",
    "print(\"Group by:\") \n",
    "data.groupby('STATE_UT_NAME').size()"
   ]
  },
  {
   "cell_type": "code",
   "execution_count": 13,
   "metadata": {},
   "outputs": [
    {
     "name": "stdout",
     "output_type": "stream",
     "text": [
      "Co-Variance =                  JAN          FEB           MAR           APR           MAY  \\\n",
      "JAN       444.484728   507.815360    660.010691    517.835460    363.921751   \n",
      "FEB       507.815360   768.930475   1133.848044   1256.484628   1224.154220   \n",
      "MAR       660.010691  1133.848044   2065.800897   2725.718979   3099.931136   \n",
      "APR       517.835460  1256.484628   2725.718979   5120.301052   7093.308059   \n",
      "MAY       363.921751  1224.154220   3099.931136   7093.308059  12535.128875   \n",
      "JUN      -128.154123  1059.150365   3236.366635   8874.651683  17293.007258   \n",
      "JUL       -35.546780   867.121761   2059.473685   6159.985479  12899.867909   \n",
      "AUG        87.543039   649.127817   1189.317757   3276.102957   7311.729522   \n",
      "SEP        30.255282   586.806438   1529.316122   3936.005296   7721.863557   \n",
      "OCT         4.079491   383.732130   1146.534354   3145.154854   5918.914590   \n",
      "NOV       143.556849   164.334367    294.313626    869.776978   1685.667479   \n",
      "DEC       288.217757   269.679654    337.245915    369.091471    453.157571   \n",
      "ANNUAL   2884.019506  8871.185259  19477.877841  43344.416895  77600.651929   \n",
      "Jan-Feb   952.300089  1276.745835   1793.858734   1774.320089   1588.075972   \n",
      "Mar-May  1541.767902  3614.486892   7891.451012  14939.328089  22728.368071   \n",
      "Jun-Sep   -45.902582  3162.206380   8014.474200  22246.745414  45226.468246   \n",
      "Oct-Dec   435.854097   817.746151   1778.093895   4384.023303   8057.739641   \n",
      "\n",
      "                   JUN            JUL            AUG           SEP  \\\n",
      "JAN        -128.154123     -35.546780      87.543039     30.255282   \n",
      "FEB        1059.150365     867.121761     649.127817    586.806438   \n",
      "MAR        3236.366635    2059.473685    1189.317757   1529.316122   \n",
      "APR        8874.651683    6159.985479    3276.102957   3936.005296   \n",
      "MAY       17293.007258   12899.867909    7311.729522   7721.863557   \n",
      "JUN       38634.372868   38305.205315   22765.941663  15798.193746   \n",
      "JUL       38305.205315   49002.305300   31439.127314  17152.942835   \n",
      "AUG       22765.941663   31439.127314   23301.205843  12116.345604   \n",
      "SEP       15798.193746   17152.942835   12116.345604   9966.136793   \n",
      "OCT        9331.940488    6168.226889    3080.985293   4143.025549   \n",
      "NOV        1485.950684    -768.835715   -1222.835899    209.430498   \n",
      "DEC        -319.169295   -1211.443357   -1037.539162   -251.732727   \n",
      "ANNUAL   156337.457286  162038.430636  102957.051749  72938.588994   \n",
      "Jan-Feb     930.996241     831.574980     736.670856    617.061720   \n",
      "Mar-May   29404.025576   21119.327073   11777.150236  13187.184975   \n",
      "Jun-Sep  115503.713592  135899.580765   89622.620424  55033.618979   \n",
      "Oct-Dec   10498.721877    4187.947818     820.610232   4100.723320   \n",
      "\n",
      "                  OCT           NOV          DEC         ANNUAL       Jan-Feb  \\\n",
      "JAN          4.079491    143.556849   288.217757    2884.019506    952.300089   \n",
      "FEB        383.732130    164.334367   269.679654    8871.185259   1276.745835   \n",
      "MAR       1146.534354    294.313626   337.245915   19477.877841   1793.858734   \n",
      "APR       3145.154854    869.776978   369.091471   43344.416895   1774.320089   \n",
      "MAY       5918.914590   1685.667479   453.157571   77600.651929   1588.075972   \n",
      "JUN       9331.940488   1485.950684  -319.169295  156337.457286    930.996241   \n",
      "JUL       6168.226889   -768.835715 -1211.443357  162038.430636    831.574980   \n",
      "AUG       3080.985293  -1222.835899 -1037.539162  102957.051749    736.670856   \n",
      "SEP       4143.025549    209.430498  -251.732727   72938.588994    617.061720   \n",
      "OCT       5623.602865   3149.423314  1118.905421   43214.525240    387.811621   \n",
      "NOV       3149.423314   3524.948163  1715.702969   11251.433314    307.891216   \n",
      "DEC       1118.905421   1715.702969  1070.010097    2802.126315    557.897411   \n",
      "ANNUAL   43214.525240  11251.433314  2802.126315  703717.764964  11755.204765   \n",
      "Jan-Feb    387.811621    307.891216   557.897411   11755.204765   2229.045924   \n",
      "Mar-May  10210.603798   2849.758083  1159.494957  140422.946665   5156.254794   \n",
      "Jun-Sep  22724.178220   -296.290432 -2819.884541  494271.528665   3116.303798   \n",
      "Oct-Dec   9891.931601   8390.074446  3904.618487   57268.084869   1253.600248   \n",
      "\n",
      "               Mar-May        Jun-Sep       Oct-Dec  \n",
      "JAN        1541.767902     -45.902582    435.854097  \n",
      "FEB        3614.486892    3162.206380    817.746151  \n",
      "MAR        7891.451012    8014.474200   1778.093895  \n",
      "APR       14939.328089   22246.745414   4384.023303  \n",
      "MAY       22728.368071   45226.468246   8057.739641  \n",
      "JUN       29404.025576  115503.713592  10498.721877  \n",
      "JUL       21119.327073  135899.580765   4187.947818  \n",
      "AUG       11777.150236   89622.620424    820.610232  \n",
      "SEP       13187.184975   55033.618979   4100.723320  \n",
      "OCT       10210.603798   22724.178220   9891.931601  \n",
      "NOV        2849.758083    -296.290432   8390.074446  \n",
      "DEC        1159.494957   -2819.884541   3904.618487  \n",
      "ANNUAL   140422.946665  494271.528665  57268.084869  \n",
      "Jan-Feb    5156.254794    3116.303798   1253.600248  \n",
      "Mar-May   45559.147172   75487.687860  14219.856839  \n",
      "Jun-Sep   75487.687860  396059.533760  19608.003247  \n",
      "Oct-Dec   14219.856839   19608.003247  22186.624535  \n",
      "Co-Relation =               JAN       FEB       MAR       APR       MAY       JUN       JUL  \\\n",
      "JAN      1.000000  0.868628  0.688776  0.343254  0.154175 -0.030926 -0.007617   \n",
      "FEB      0.868628  1.000000  0.899637  0.633236  0.394301  0.194324  0.141263   \n",
      "MAR      0.688776  0.899637  1.000000  0.838087  0.609177  0.362265  0.204693   \n",
      "APR      0.343254  0.633236  0.838087  1.000000  0.885394  0.630982  0.388887   \n",
      "MAY      0.154175  0.394301  0.609177  0.885394  1.000000  0.785813  0.520490   \n",
      "JUN     -0.030926  0.194324  0.362265  0.630982  0.785813  1.000000  0.880365   \n",
      "JUL     -0.007617  0.141263  0.204693  0.388887  0.520490  0.880365  1.000000   \n",
      "AUG      0.027202  0.153355  0.171421  0.299930  0.427825  0.758769  0.930407   \n",
      "SEP      0.014375  0.211977  0.337046  0.550991  0.690867  0.805113  0.776188   \n",
      "OCT      0.002580  0.184534  0.336384  0.586121  0.704970  0.633108  0.371574   \n",
      "NOV      0.114688  0.099818  0.109066  0.204731  0.253589  0.127333 -0.058499   \n",
      "DEC      0.417925  0.297311  0.226834  0.157686  0.123735 -0.049641 -0.167302   \n",
      "ANNUAL   0.163069  0.381363  0.510856  0.722081  0.826231  0.948150  0.872591   \n",
      "Jan-Feb  0.956722  0.975217  0.835958  0.525200  0.300433  0.100323  0.079567   \n",
      "Mar-May  0.342612  0.610682  0.813439  0.978128  0.951078  0.700861  0.446976   \n",
      "Jun-Sep -0.003460  0.181203  0.280189  0.494013  0.641871  0.933746  0.975505   \n",
      "Oct-Dec  0.138793  0.197984  0.262642  0.411320  0.483174  0.358595  0.127013   \n",
      "\n",
      "              AUG       SEP       OCT       NOV       DEC    ANNUAL   Jan-Feb  \\\n",
      "JAN      0.027202  0.014375  0.002580  0.114688  0.417925  0.163069  0.956722   \n",
      "FEB      0.153355  0.211977  0.184534  0.099818  0.297311  0.381363  0.975217   \n",
      "MAR      0.171421  0.337046  0.336384  0.109066  0.226834  0.510856  0.835958   \n",
      "APR      0.299930  0.550991  0.586121  0.204731  0.157686  0.722081  0.525200   \n",
      "MAY      0.427825  0.690867  0.704970  0.253589  0.123735  0.826231  0.300433   \n",
      "JUN      0.758769  0.805113  0.633108  0.127333 -0.049641  0.948150  0.100323   \n",
      "JUL      0.930407  0.776188  0.371574 -0.058499 -0.167302  0.872591  0.079567   \n",
      "AUG      1.000000  0.795095  0.269149 -0.134928 -0.207788  0.804021  0.102217   \n",
      "SEP      0.795095  1.000000  0.553410  0.035335 -0.077087  0.870953  0.130920   \n",
      "OCT      0.269149  0.553410  1.000000  0.707371  0.456134  0.686947  0.109535   \n",
      "NOV     -0.134928  0.035335  0.707371  1.000000  0.883429  0.225908  0.109840   \n",
      "DEC     -0.207788 -0.077087  0.456134  0.883429  1.000000  0.102116  0.361244   \n",
      "ANNUAL   0.804021  0.870953  0.686947  0.225908  0.102116  1.000000  0.296805   \n",
      "Jan-Feb  0.102217  0.130920  0.109535  0.109840  0.361244  0.296805  1.000000   \n",
      "Mar-May  0.361462  0.618872  0.637905  0.224876  0.166068  0.784244  0.511667   \n",
      "Jun-Sep  0.932928  0.875960  0.481505 -0.007930 -0.136980  0.936238  0.104882   \n",
      "Oct-Dec  0.036091  0.275773  0.885581  0.948733  0.801381  0.458319  0.178260   \n",
      "\n",
      "          Mar-May   Jun-Sep   Oct-Dec  \n",
      "JAN      0.342612 -0.003460  0.138793  \n",
      "FEB      0.610682  0.181203  0.197984  \n",
      "MAR      0.813439  0.280189  0.262642  \n",
      "APR      0.978128  0.494013  0.411320  \n",
      "MAY      0.951078  0.641871  0.483174  \n",
      "JUN      0.700861  0.933746  0.358595  \n",
      "JUL      0.446976  0.975505  0.127013  \n",
      "AUG      0.361462  0.932928  0.036091  \n",
      "SEP      0.618872  0.875960  0.275773  \n",
      "OCT      0.637905  0.481505  0.885581  \n",
      "NOV      0.224876 -0.007930  0.948733  \n",
      "DEC      0.166068 -0.136980  0.801381  \n",
      "ANNUAL   0.784244  0.936238  0.458319  \n",
      "Jan-Feb  0.511667  0.104882  0.178260  \n",
      "Mar-May  1.000000  0.561963  0.447262  \n",
      "Jun-Sep  0.561963  1.000000  0.209174  \n",
      "Oct-Dec  0.447262  0.209174  1.000000  \n"
     ]
    }
   ],
   "source": [
    "# Checking the correlation and covariance between the columns\n",
    "print(\"Co-Variance =\",data.cov())\n",
    "print(\"Co-Relation =\",data.corr())"
   ]
  },
  {
   "cell_type": "code",
   "execution_count": 17,
   "metadata": {},
   "outputs": [
    {
     "name": "stdout",
     "output_type": "stream",
     "text": [
      "Index of correlation columns: Index(['ANNUAL', 'JUN', 'Jun-Sep', 'JUL', 'SEP', 'MAY', 'AUG', 'Mar-May',\n",
      "       'APR', 'OCT', 'MAR', 'Oct-Dec', 'FEB', 'Jan-Feb', 'NOV', 'JAN', 'DEC'],\n",
      "      dtype='object')\n"
     ]
    }
   ],
   "source": [
    "corr_cols = data.corr()['ANNUAL'].sort_values()[::-1]\n",
    "print(\"Index of correlation columns:\",corr_cols.index)"
   ]
  },
  {
   "cell_type": "code",
   "execution_count": 16,
   "metadata": {},
   "outputs": [
    {
     "name": "stdout",
     "output_type": "stream",
     "text": [
      "Scatter plot of annual and january attributes\n"
     ]
    },
    {
     "data": {
      "text/plain": [
       "<matplotlib.collections.PathCollection at 0x1a224b9da0>"
      ]
     },
     "execution_count": 16,
     "metadata": {},
     "output_type": "execute_result"
    },
    {
     "data": {
      "image/png": "[encoded data removed]",
      "text/plain": [
       "<Figure size 432x288 with 1 Axes>"
      ]
     },
     "metadata": {
      "needs_background": "light"
     },
     "output_type": "display_data"
    }
   ],
   "source": [
    "#Data Visualization of the Annual Rainfall \n",
    "print(\"Scatter plot of annual and january attributes\") \n",
    "plt.scatter(data.ANNUAL,data.JAN)"
   ]
  },
  {
   "cell_type": "code",
   "execution_count": 18,
   "metadata": {},
   "outputs": [
    {
     "name": "stdout",
     "output_type": "stream",
     "text": [
      "Box Plot of annual rainfall data in years 1901-2015\n"
     ]
    },
    {
     "data": {
      "text/plain": [
       "<matplotlib.axes._subplots.AxesSubplot at 0x1a22523940>"
      ]
     },
     "execution_count": 18,
     "metadata": {},
     "output_type": "execute_result"
    },
    {
     "data": {
      "image/png": "[encoded data removed]",
      "text/plain": [
       "<Figure size 432x288 with 1 Axes>"
      ]
     },
     "metadata": {
      "needs_background": "light"
     },
     "output_type": "display_data"
    }
   ],
   "source": [
    "print(\"Box Plot of annual rainfall data in years 1901-2015\") \n",
    "data['ANNUAL'].plot(kind='box',sharex=False,sharey=False)"
   ]
  },
  {
   "cell_type": "code",
   "execution_count": 20,
   "metadata": {},
   "outputs": [
    {
     "name": "stdout",
     "output_type": "stream",
     "text": [
      "Histograms showing the data from attributes (JANUARY to DECEMBER) of the years 1901-2015:\n"
     ]
    },
    {
     "data": {
      "text/plain": [
       "<matplotlib.axes._subplots.AxesSubplot at 0x1a23109f60>"
      ]
     },
     "execution_count": 20,
     "metadata": {},
     "output_type": "execute_result"
    },
    {
     "data": {
      "image/png": "[encoded data removed]",
      "text/plain": [
       "<Figure size 432x288 with 1 Axes>"
      ]
     },
     "metadata": {
      "needs_background": "light"
     },
     "output_type": "display_data"
    }
   ],
   "source": [
    "print(\"Histograms showing the data from attributes (JANUARY to DECEMBER) of the years 1901-2015:\") \n",
    "data['JAN'].hist(bins=20)\n",
    "data['FEB'].hist(bins=20)\n",
    "data['MAR'].hist(bins=20)\n",
    "data['APR'].hist(bins=20) \n",
    "data['MAY'].hist(bins=20) \n",
    "data['JUN'].hist(bins=20) \n",
    "data['JUL'].hist(bins=20) \n",
    "data['AUG'].hist(bins=20) \n",
    "data['SEP'].hist(bins=20) \n",
    "data['OCT'].hist(bins=20) \n",
    "data['NOV'].hist(bins=20) \n",
    "data['DEC'].hist(bins=20)"
   ]
  },
  {
   "cell_type": "code",
   "execution_count": 21,
   "metadata": {},
   "outputs": [
    {
     "name": "stdout",
     "output_type": "stream",
     "text": [
      "Histogram showing the annual rainfall of the all states:\n"
     ]
    },
    {
     "data": {
      "text/plain": [
       "<matplotlib.axes._subplots.AxesSubplot at 0x1a2333c400>"
      ]
     },
     "execution_count": 21,
     "metadata": {},
     "output_type": "execute_result"
    },
    {
     "data": {
      "image/png": "[encoded data removed]",
      "text/plain": [
       "<Figure size 432x288 with 1 Axes>"
      ]
     },
     "metadata": {
      "needs_background": "light"
     },
     "output_type": "display_data"
    }
   ],
   "source": [
    "print(\"Histogram showing the annual rainfall of the all states:\")\n",
    "data['ANNUAL'].hist(bins=20)"
   ]
  },
  {
   "cell_type": "code",
   "execution_count": null,
   "metadata": {},
   "outputs": [],
   "source": [
    "print(\"Violin plot of the ANNUAL attribute :-\")\n",
    "sb.violinplot(data=data['ANNUAL'])"
   ]
  },
  {
   "cell_type": "code",
   "execution_count": 37,
   "metadata": {},
   "outputs": [
    {
     "name": "stdout",
     "output_type": "stream",
     "text": [
      "___Multiple Linear regression model between annual rainfall and the periodic rainfall___\n",
      "Train x shape (448, 4) ; Test_x (193, 4)\n",
      "Train y shape (448,) ; Test_y (193,)\n",
      "Mean Squared Error = 1.0408399182808801e-25\n",
      "Root Mean Squared Error = 3.2262050745122824e-13\n",
      "Mean Absolute Error = 2.4298352621847986e-13\n",
      "r2_score = 1.0\n"
     ]
    },
    {
     "data": {
      "image/png": "[encoded data removed]",
      "text/plain": [
       "<Figure size 432x288 with 1 Axes>"
      ]
     },
     "metadata": {
      "needs_background": "light"
     },
     "output_type": "display_data"
    }
   ],
   "source": [
    "#Model Evaluation and Testing\n",
    "from sklearn import linear_model\n",
    "print(\"___Multiple Linear regression model between annual rainfall and the periodic rainfall___\") \n",
    "y=data['ANNUAL']\n",
    "x=data[['Jan-Feb','Mar-May','Jun-Sep','Oct-Dec']] \n",
    "train_x,test_x,train_y,test_y=tts(x,y,test_size=0.3,shuffle=False) \n",
    "'''train_x=train_x[:,np.newaxis]\n",
    "test_x=test_x[:,np.newaxis]'''\n",
    "print(\"Train x shape\",train_x.shape,\"; Test_x\",test_x.shape)\n",
    "print(\"Train y shape\",train_y.shape,\"; Test_y\",test_y.shape)\n",
    "lm=linear_model.LinearRegression()\n",
    "lm.fit(train_x,train_y)\n",
    "pred=lm.predict(test_x)\n",
    "#print(test_y)\n",
    "#print(pred)\n",
    "print(\"Mean Squared Error =\",mse(test_y,pred))\n",
    "print(\"Root Mean Squared Error =\",np.sqrt(mse(test_y,pred)))\n",
    "print(\"Mean Absolute Error =\",mae(test_y,pred))\n",
    "print(\"r2_score =\",r2(test_y,pred))\n",
    "plt.scatter(pred,test_y)\n",
    "plt.xlabel('TRAIN_X')\n",
    "plt.ylabel('TRAIN_Y')\n",
    "plt.show()"
   ]
  },
  {
   "cell_type": "code",
   "execution_count": 39,
   "metadata": {},
   "outputs": [
    {
     "name": "stdout",
     "output_type": "stream",
     "text": [
      "accuracy\n",
      "1.0\n",
      "\n",
      "\n",
      "classification\n",
      "              precision    recall  f1-score   support\n",
      "\n",
      "        high       1.00      1.00      1.00        30\n",
      "         low       1.00      1.00      1.00       163\n",
      "\n",
      "   micro avg       1.00      1.00      1.00       193\n",
      "   macro avg       1.00      1.00      1.00       193\n",
      "weighted avg       1.00      1.00      1.00       193\n",
      "\n"
     ]
    }
   ],
   "source": [
    "expected=[]\n",
    "for i in test_y:\n",
    "    if i>2000:\n",
    "        expected.append(\"high\")\n",
    "    else:\n",
    "        expected.append(\"low\")\n",
    "predicted=[]\n",
    "for i in pred: \n",
    "    if i>2000:\n",
    "        predicted.append(\"high\") \n",
    "    else:\n",
    "        predicted.append(\"low\")\n",
    "        \n",
    "from sklearn.metrics import accuracy_score,confusion_matrix,classification_report \n",
    "acc=accuracy_score(predicted,expected) \n",
    "matrix=confusion_matrix(predicted,expected) \n",
    "clas=classification_report(predicted,expected)\n",
    "print(\"accuracy\")\n",
    "print(acc)\n",
    "print(\"\\n\")\n",
    "print(\"classification\")\n",
    "print(clas)        "
   ]
  },
  {
   "cell_type": "code",
   "execution_count": 40,
   "metadata": {},
   "outputs": [],
   "source": [
    " exp=[]\n",
    "pre=[]\n",
    "for i in expected:\n",
    "    if i=='high': \n",
    "        exp.append(1)\n",
    "    else: \n",
    "        exp.append(0)\n",
    "for i in predicted: \n",
    "    if i=='high':\n",
    "        pre.append(1) \n",
    "    else:\n",
    "        pre.append(0)"
   ]
  },
  {
   "cell_type": "code",
   "execution_count": 41,
   "metadata": {},
   "outputs": [
    {
     "data": {
      "text/plain": [
       "Text(0.5, 0, 'False Positive Rate')"
      ]
     },
     "execution_count": 41,
     "metadata": {},
     "output_type": "execute_result"
    },
    {
     "data": {
      "image/png": "[encoded data removed]",
      "text/plain": [
       "<Figure size 432x288 with 1 Axes>"
      ]
     },
     "metadata": {
      "needs_background": "light"
     },
     "output_type": "display_data"
    }
   ],
   "source": [
    "from sklearn.metrics import roc_curve,auc\n",
    "import random\n",
    "fpr,tpr,threshold=roc_curve(exp,pre)\n",
    "roc_auc=auc(fpr,tpr)\n",
    "plt.title(\"receiver curve operating characteristic\")\n",
    "plt.plot(fpr,tpr,'b',label='AUC = %0.2f'%roc_auc)\n",
    "plt.legend(loc='lower right')\n",
    "plt.plot([0,1],[0,1],'r--')\n",
    "plt.xlim([-0.1,1.2])\n",
    "plt.ylim([-0.1,1.2])\n",
    "plt.ylabel(\"True Positive Rate\")\n",
    "plt.xlabel(\"False Positive Rate\")\n",
    "plt.xlabel(\"False Positive Rate\")"
   ]
  },
  {
   "cell_type": "code",
   "execution_count": null,
   "metadata": {},
   "outputs": [],
   "source": []
  }
 ],
 "metadata": {
  "kernelspec": {
   "display_name": "Python 3",
   "language": "python",
   "name": "python3"
  },
  "language_info": {
   "codemirror_mode": {
    "name": "ipython",
    "version": 3
   },
   "file_extension": ".py",
   "mimetype": "text/x-python",
   "name": "python",
   "nbconvert_exporter": "python",
   "pygments_lexer": "ipython3",
   "version": "3.6.7"
  }
 },
 "nbformat": 4,
 "nbformat_minor": 2
}
